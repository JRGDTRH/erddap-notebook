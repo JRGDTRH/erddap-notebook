{
 "cells": [
  {
   "cell_type": "code",
   "execution_count": null,
   "id": "1d7b0531",
   "metadata": {},
   "outputs": [],
   "source": [
    "# Import the main function of erddap_notebook for your new ipynb\n",
    "from erddap_nb import create_data_access_interface\n",
    "\n",
    "# Run the interface\n",
    "app = create_data_access_interface()"
   ]
  },
  {
   "cell_type": "code",
   "execution_count": null,
   "id": "d4acc620",
   "metadata": {},
   "outputs": [],
   "source": [
    "# Check if any dataframes have been downloaded yet\n",
    "import pandas as pd\n",
    "\n",
    "if not app['dataframes']:\n",
    "    print(\"No data has been downloaded yet. Please use the UI above to download a dataset.\")\n",
    "else:\n",
    "    # See all available in-memory data objects (DataFrames or Datasets)\n",
    "    print(\"Available data keys:\", list(app['dataframes'].keys()))\n",
    "    \n",
    "    # --- IMPORTANT ---\n",
    "    # Replace 'your_data_key_here' with the actual key from the list printed above.\n",
    "    data_key = 'yout_data_key_here'  # Example placeholder, change this to your actual key\n",
    "    \n",
    "    # Safely access your data\n",
    "    if data_key in app['dataframes']:\n",
    "        # The 'data' item holds your object (e.g., a Pandas DataFrame)\n",
    "        data_object = app['dataframes'][data_key]['data']\n",
    "        source_format = app['dataframes'][data_key]['source_format']\n",
    "        \n",
    "        print(f\"\\nSuccessfully accessed '{data_key}' (format: {source_format}).\")\n",
    "\n",
    "        # Display the first few rows for DataFrames\n",
    "        if isinstance(data_object, pd.DataFrame):\n",
    "            print(\"\\n--- Data Head ---\")\n",
    "            display(data_object.head())\n",
    "            print(\"\\n--- Summary Statistics ---\")\n",
    "            display(data_object.describe())\n",
    "        else:\n",
    "            # Display the Xarray object\n",
    "            display(data_object)\n",
    "            \n",
    "    else:\n",
    "        print(f\"\\nError: The key '{data_key}' was not found. Please choose a valid key from the list above.\")"
   ]
  }
 ],
 "metadata": {
  "kernelspec": {
   "display_name": "GIS_ENV (Py 3.10)",
   "language": "python",
   "name": "gis_env"
  },
  "language_info": {
   "codemirror_mode": {
    "name": "ipython",
    "version": 3
   },
   "file_extension": ".py",
   "mimetype": "text/x-python",
   "name": "python",
   "nbconvert_exporter": "python",
   "pygments_lexer": "ipython3",
   "version": "3.10.16"
  }
 },
 "nbformat": 4,
 "nbformat_minor": 5
}
